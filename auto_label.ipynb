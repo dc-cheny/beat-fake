{
 "cells": [
  {
   "cell_type": "code",
   "execution_count": 30,
   "metadata": {},
   "outputs": [],
   "source": [
    "import pandas as pd\n",
    "import os\n",
    "\n",
    "out_path = \"F:\\\\deep_fake\\\\results_labeled\\\\\"\n",
    "in_path = \"F:\\\\deep_fake\\\\results\\\\\"\n",
    "in_dirs = os.listdir(in_path)\n",
    "out_dirs = os.listdir(out_path)\n",
    "for file in in_dirs:\n",
    "    if file not in out_dirs:\n",
    "        data = pd.read_csv(in_path + file)\n",
    "        data = data[~data['face_color'].isin([0])]\n",
    "        data.drop_duplicates(subset=['video'],keep=False,inplace=True)\n",
    "        data.to_csv(out_path + file, index=False, header=True)\n",
    "        \n",
    "target_path =  os.path.join(out_path, 'all_parts_features.csv')    \n",
    "if os.path.exists(target_path):\n",
    "    os.remove(target_path)\n",
    "    \n",
    "out_dirs = os.listdir(out_path)\n",
    "all_features = pd.DataFrame()\n",
    "for file in out_dirs:\n",
    "    data = pd.read_csv(out_path + file)\n",
    "    all_features = pd.concat([all_features,data],ignore_index=True)\n",
    "all_features.to_csv(target_path, index=False, header=True)\n"
   ]
  },
  {
   "cell_type": "code",
   "execution_count": null,
   "metadata": {},
   "outputs": [],
   "source": []
  }
 ],
 "metadata": {
  "kernelspec": {
   "display_name": "Python 3",
   "language": "python",
   "name": "python3"
  },
  "language_info": {
   "codemirror_mode": {
    "name": "ipython",
    "version": 3
   },
   "file_extension": ".py",
   "mimetype": "text/x-python",
   "name": "python",
   "nbconvert_exporter": "python",
   "pygments_lexer": "ipython3",
   "version": "3.7.1"
  }
 },
 "nbformat": 4,
 "nbformat_minor": 2
}
