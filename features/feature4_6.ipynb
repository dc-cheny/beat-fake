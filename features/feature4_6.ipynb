{
 "cells": [
  {
   "cell_type": "code",
   "execution_count": 139,
   "metadata": {},
   "outputs": [],
   "source": [
    "# import the necessary packages\n",
    "from imutils import face_utils\n",
    "import dlib\n",
    "import cv2\n",
    "import numpy as np\n",
    "import math"
   ]
  },
  {
   "cell_type": "code",
   "execution_count": 2,
   "metadata": {},
   "outputs": [],
   "source": [
    "# initialize dlib's face detector (HOG-based) and then create\n",
    "# the facial landmark predictor\n",
    "p = \"shape_predictor_194_face_landmarks.dat\"\n",
    "detector = dlib.get_frontal_face_detector()\n",
    "predictor = dlib.shape_predictor(p)"
   ]
  },
  {
   "cell_type": "markdown",
   "metadata": {},
   "source": [
    "#### 特征四：眼球中心到眉毛中心"
   ]
  },
  {
   "cell_type": "code",
   "execution_count": 126,
   "metadata": {},
   "outputs": [
    {
     "name": "stdout",
     "output_type": "stream",
     "text": [
      "0.8760680332076587\n"
     ]
    }
   ],
   "source": [
    "#假设一个视频中人数恒定且相应人脸可以对应上,最终返回特征为eye2brow\n",
    "cap = cv2.VideoCapture('C:/Users/balabalr/Documents/acxwigylke.mp4')\n",
    "v_len = int(cap.get(cv2.CAP_PROP_FRAME_COUNT))\n",
    "\n",
    "eye2browDis = []\n",
    "for f in range(v_len):\n",
    "    _, image = cap.read()\n",
    "    gray = cv2.cvtColor(image, cv2.COLOR_BGR2GRAY)\n",
    "\n",
    "    # detect faces in the grayscale image\n",
    "    rects = detector(gray, 0)\n",
    "\n",
    "\n",
    "    # loop over the face detections\n",
    "    dis = []\n",
    "    l_eye_feature=[element for element in range(48,70)]\n",
    "    l_eye_feature.remove(55)\n",
    "    l_eye_feature.remove(66)\n",
    "    r_eye_feature=[element for element in range(26,48)]\n",
    "    r_eye_feature.remove(33)\n",
    "    r_eye_feature.remove(44)\n",
    "    r_brow_feature=[element for element in range(70,92)]\n",
    "    r_brow_feature.remove(77)\n",
    "    r_brow_feature.remove(88)\n",
    "    l_brow_feature=[element for element in range(92,114)]\n",
    "    l_brow_feature.remove(99)\n",
    "    l_brow_feature.remove(110)\n",
    "    for (i, rect) in enumerate(rects):\n",
    "        # determine the facial landmarks for the face region, then\n",
    "        # convert the facial landmark (x, y)-coordinates to a NumPy\n",
    "        # array\n",
    "        shape = predictor(gray, rect)\n",
    "        shape = face_utils.shape_to_np(shape)\n",
    "        series=[]\n",
    "        #找出眼睛的中心\n",
    "        for i in range(20):\n",
    "            series.append([shape[l_eye_feature[i]],shape[r_eye_feature[i]],shape[l_brow_feature[i]],shape[r_brow_feature[i]]])\n",
    "        series=np.array(series)\n",
    "        l_eye_center=[(np.max(series[:,0,0])+np.min(series[:,0,0]))/2,(np.max(series[:,0,1])+np.min(series[:,0,1]))/2]\n",
    "        r_eye_center=[(np.max(series[:,1,0])+np.min(series[:,1,0]))/2,(np.max(series[:,1,1])+np.min(series[:,1,1]))/2]\n",
    "        l_brow_center=[(np.max(series[:,2,0])+np.min(series[:,2,0]))/2,(np.max(series[:,2,1])+np.min(series[:,2,1]))/2]\n",
    "        r_brow_center=[(np.max(series[:,3,0])+np.min(series[:,3,0]))/2,(np.max(series[:,3,1])+np.min(series[:,3,1]))/2]\n",
    "        l_eye_center=np.array(l_eye_center)\n",
    "        l_brow_center=np.array(l_brow_center)\n",
    "        r_eye_center=np.array(r_eye_center)\n",
    "        r_brow_center=np.array(r_brow_center)\n",
    "        dis.append((np.sqrt(np.sum((l_eye_center - l_brow_center) ** 2))+np.sqrt(np.sum((r_eye_center - r_brow_center) ** 2)))/2)\n",
    "        \n",
    "    eye2browDis.append(dis)\n",
    "#Dis为二维数组[帧数，脸数]\n",
    "eye2browDis = np.array(eye2browDis)\n",
    "eye2brow = 0\n",
    "for i in range(len(rects)):\n",
    "    eye2brow += eye2browDis[:,i].std()\n",
    "#求几张脸该特征的均值\n",
    "eye2brow = eye2brow/len(rects)\n",
    "print(eye2brow)\n",
    "\n",
    "cap.release()\n"
   ]
  },
  {
   "cell_type": "markdown",
   "metadata": {},
   "source": [
    "特征五：鼻梁和眉毛夹角\n"
   ]
  },
  {
   "cell_type": "code",
   "execution_count": 154,
   "metadata": {},
   "outputs": [
    {
     "name": "stdout",
     "output_type": "stream",
     "text": [
      "126 <class 'list'>\n"
     ]
    }
   ],
   "source": [
    "#计算两向量的夹角\n",
    "def angle_new(v1, v2):\n",
    "    dx1 = v1[2] - v1[0]\n",
    "    dy1 = v1[3] - v1[1]\n",
    "    dx2 = v2[2] - v2[0]\n",
    "    dy2 = v2[3] - v2[1]\n",
    "    angle1 = math.atan2(dy1, dx1)\n",
    "    angle1 = int(angle1 * 180/math.pi)\n",
    "    # print(angle1)\n",
    "    angle2 = math.atan2(dy2, dx2)\n",
    "    angle2 = int(angle2 * 180/math.pi)\n",
    "    # print(angle2)\n",
    "    if angle1*angle2 >= 0:\n",
    "        included_angle = abs(angle1-angle2)\n",
    "    else:\n",
    "        included_angle = abs(angle1) + abs(angle2)\n",
    "        if included_angle > 180:\n",
    "            included_angle = 360 - included_angle\n",
    "    return included_angle\n",
    "'''\n",
    "AB = [5,-1,1,-3]\n",
    "CD = [4,1,4.5,4.5]\n",
    "print(angle_new(AB, CD),type(AB))\n",
    "'''"
   ]
  },
  {
   "cell_type": "code",
   "execution_count": 167,
   "metadata": {},
   "outputs": [
    {
     "name": "stdout",
     "output_type": "stream",
     "text": [
      "[[84]]\n",
      "[[84], [83]]\n",
      "[[84], [83], [86]]\n",
      "[[84], [83], [86], [87]]\n",
      "[[84], [83], [86], [87], [85]]\n",
      "[[84], [83], [86], [87], [85], [86]]\n",
      "[[84], [83], [86], [87], [85], [86], [88]]\n",
      "[[84], [83], [86], [87], [85], [86], [88], [86]]\n",
      "[[84], [83], [86], [87], [85], [86], [88], [86], [87]]\n",
      "[[84], [83], [86], [87], [85], [86], [88], [86], [87], [85]]\n",
      "[[84], [83], [86], [87], [85], [86], [88], [86], [87], [85], [85]]\n",
      "[[84], [83], [86], [87], [85], [86], [88], [86], [87], [85], [85], [87]]\n",
      "[[84], [83], [86], [87], [85], [86], [88], [86], [87], [85], [85], [87], [86]]\n",
      "[[84], [83], [86], [87], [85], [86], [88], [86], [87], [85], [85], [87], [86], [86]]\n",
      "[[84], [83], [86], [87], [85], [86], [88], [86], [87], [85], [85], [87], [86], [86], [86]]\n",
      "[[84], [83], [86], [87], [85], [86], [88], [86], [87], [85], [85], [87], [86], [86], [86], [87]]\n",
      "[[84], [83], [86], [87], [85], [86], [88], [86], [87], [85], [85], [87], [86], [86], [86], [87], [87]]\n",
      "[[84], [83], [86], [87], [85], [86], [88], [86], [87], [85], [85], [87], [86], [86], [86], [87], [87], [86]]\n",
      "[[84], [83], [86], [87], [85], [86], [88], [86], [87], [85], [85], [87], [86], [86], [86], [87], [87], [86], [87]]\n",
      "[[84], [83], [86], [87], [85], [86], [88], [86], [87], [85], [85], [87], [86], [86], [86], [87], [87], [86], [87], [87]]\n",
      "[[84], [83], [86], [87], [85], [86], [88], [86], [87], [85], [85], [87], [86], [86], [86], [87], [87], [86], [87], [87], [87]]\n",
      "[[84], [83], [86], [87], [85], [86], [88], [86], [87], [85], [85], [87], [86], [86], [86], [87], [87], [86], [87], [87], [87], [86]]\n",
      "[[84], [83], [86], [87], [85], [86], [88], [86], [87], [85], [85], [87], [86], [86], [86], [87], [87], [86], [87], [87], [87], [86], [85]]\n",
      "[[84], [83], [86], [87], [85], [86], [88], [86], [87], [85], [85], [87], [86], [86], [86], [87], [87], [86], [87], [87], [87], [86], [85], [89]]\n",
      "[[84], [83], [86], [87], [85], [86], [88], [86], [87], [85], [85], [87], [86], [86], [86], [87], [87], [86], [87], [87], [87], [86], [85], [89], [85]]\n",
      "[[84], [83], [86], [87], [85], [86], [88], [86], [87], [85], [85], [87], [86], [86], [86], [87], [87], [86], [87], [87], [87], [86], [85], [89], [85], [87]]\n",
      "[[84], [83], [86], [87], [85], [86], [88], [86], [87], [85], [85], [87], [86], [86], [86], [87], [87], [86], [87], [87], [87], [86], [85], [89], [85], [87], [87]]\n",
      "[[84], [83], [86], [87], [85], [86], [88], [86], [87], [85], [85], [87], [86], [86], [86], [87], [87], [86], [87], [87], [87], [86], [85], [89], [85], [87], [87], [86]]\n",
      "[[84], [83], [86], [87], [85], [86], [88], [86], [87], [85], [85], [87], [86], [86], [86], [87], [87], [86], [87], [87], [87], [86], [85], [89], [85], [87], [87], [86], [86]]\n",
      "[[84], [83], [86], [87], [85], [86], [88], [86], [87], [85], [85], [87], [86], [86], [86], [87], [87], [86], [87], [87], [87], [86], [85], [89], [85], [87], [87], [86], [86], [85]]\n",
      "[[84], [83], [86], [87], [85], [86], [88], [86], [87], [85], [85], [87], [86], [86], [86], [87], [87], [86], [87], [87], [87], [86], [85], [89], [85], [87], [87], [86], [86], [85], [85]]\n",
      "[[84], [83], [86], [87], [85], [86], [88], [86], [87], [85], [85], [87], [86], [86], [86], [87], [87], [86], [87], [87], [87], [86], [85], [89], [85], [87], [87], [86], [86], [85], [85], [86]]\n",
      "[[84], [83], [86], [87], [85], [86], [88], [86], [87], [85], [85], [87], [86], [86], [86], [87], [87], [86], [87], [87], [87], [86], [85], [89], [85], [87], [87], [86], [86], [85], [85], [86], [85]]\n",
      "[[84], [83], [86], [87], [85], [86], [88], [86], [87], [85], [85], [87], [86], [86], [86], [87], [87], [86], [87], [87], [87], [86], [85], [89], [85], [87], [87], [86], [86], [85], [85], [86], [85], [85]]\n",
      "[[84], [83], [86], [87], [85], [86], [88], [86], [87], [85], [85], [87], [86], [86], [86], [87], [87], [86], [87], [87], [87], [86], [85], [89], [85], [87], [87], [86], [86], [85], [85], [86], [85], [85], [86]]\n",
      "[[84], [83], [86], [87], [85], [86], [88], [86], [87], [85], [85], [87], [86], [86], [86], [87], [87], [86], [87], [87], [87], [86], [85], [89], [85], [87], [87], [86], [86], [85], [85], [86], [85], [85], [86], [85]]\n",
      "[[84], [83], [86], [87], [85], [86], [88], [86], [87], [85], [85], [87], [86], [86], [86], [87], [87], [86], [87], [87], [87], [86], [85], [89], [85], [87], [87], [86], [86], [85], [85], [86], [85], [85], [86], [85], [86]]\n",
      "[[84], [83], [86], [87], [85], [86], [88], [86], [87], [85], [85], [87], [86], [86], [86], [87], [87], [86], [87], [87], [87], [86], [85], [89], [85], [87], [87], [86], [86], [85], [85], [86], [85], [85], [86], [85], [86], [85]]\n",
      "[[84], [83], [86], [87], [85], [86], [88], [86], [87], [85], [85], [87], [86], [86], [86], [87], [87], [86], [87], [87], [87], [86], [85], [89], [85], [87], [87], [86], [86], [85], [85], [86], [85], [85], [86], [85], [86], [85], [85]]\n",
      "[[84], [83], [86], [87], [85], [86], [88], [86], [87], [85], [85], [87], [86], [86], [86], [87], [87], [86], [87], [87], [87], [86], [85], [89], [85], [87], [87], [86], [86], [85], [85], [86], [85], [85], [86], [85], [86], [85], [85], [84]]\n"
     ]
    },
    {
     "ename": "KeyboardInterrupt",
     "evalue": "",
     "output_type": "error",
     "traceback": [
      "\u001b[1;31m---------------------------------------------------------------------------\u001b[0m",
      "\u001b[1;31mKeyboardInterrupt\u001b[0m                         Traceback (most recent call last)",
      "\u001b[1;32m<ipython-input-167-d4f88c30ea71>\u001b[0m in \u001b[0;36m<module>\u001b[1;34m\u001b[0m\n\u001b[0;32m     10\u001b[0m \u001b[1;33m\u001b[0m\u001b[0m\n\u001b[0;32m     11\u001b[0m     \u001b[1;31m# detect faces in the grayscale image\u001b[0m\u001b[1;33m\u001b[0m\u001b[1;33m\u001b[0m\u001b[1;33m\u001b[0m\u001b[0m\n\u001b[1;32m---> 12\u001b[1;33m     \u001b[0mrects\u001b[0m \u001b[1;33m=\u001b[0m \u001b[0mdetector\u001b[0m\u001b[1;33m(\u001b[0m\u001b[0mgray\u001b[0m\u001b[1;33m,\u001b[0m \u001b[1;36m0\u001b[0m\u001b[1;33m)\u001b[0m\u001b[1;33m\u001b[0m\u001b[1;33m\u001b[0m\u001b[0m\n\u001b[0m\u001b[0;32m     13\u001b[0m \u001b[1;33m\u001b[0m\u001b[0m\n\u001b[0;32m     14\u001b[0m \u001b[1;33m\u001b[0m\u001b[0m\n",
      "\u001b[1;31mKeyboardInterrupt\u001b[0m: "
     ]
    }
   ],
   "source": [
    "#假设一个视频中人数恒定且相应人脸可以对应上,最终返回特征为angle_nose_brow\n",
    "cap = cv2.VideoCapture('C:/Users/balabalr/Documents/acxwigylke.mp4')\n",
    "v_len = int(cap.get(cv2.CAP_PROP_FRAME_COUNT))\n",
    "\n",
    "langle=[]\n",
    "rangle=[]\n",
    "for f in range(v_len):\n",
    "    _, image = cap.read()\n",
    "    gray = cv2.cvtColor(image, cv2.COLOR_BGR2GRAY)\n",
    "\n",
    "    # detect faces in the grayscale image\n",
    "    rects = detector(gray, 0)\n",
    "\n",
    "\n",
    "    # loop over the face detections\n",
    "    langle_nose_brow = []\n",
    "    rangle_nose_brow = []\n",
    "    for (i, rect) in enumerate(rects):\n",
    "        # determine the facial landmarks for the face region, then\n",
    "        # convert the facial landmark (x, y)-coordinates to a NumPy\n",
    "        # array\n",
    "        shape = predictor(gray, rect)\n",
    "        shape = face_utils.shape_to_np(shape)\n",
    "        nose_vec=[(shape[139][0]+shape[147][0])/2,(shape[139][1]+shape[147][1])/2,(shape[135][0]+shape[151][0])/2,(shape[135][1]+shape[151][1])/2]\n",
    "        l_brow_vec=[shape[103][0],shape[103][1],shape[113][0],shape[113][1]]\n",
    "        r_brow_vec=[shape[81][0],shape[81][1],shape[91][0],shape[91][1]]\n",
    "        langle_nose_brow.append(angle_new(nose_vec,l_brow_vec))\n",
    "        rangle_nose_brow.append(angle_new(nose_vec,r_brow_vec))\n",
    "    langle.append(langle_nose_brow)\n",
    "    rangle.append(rangle_nose_brow)\n",
    "#Dis为二维数组[帧数，脸数]\n",
    "langle = np.array(langle)\n",
    "langle_nose_brow = 0\n",
    "rangle = np.array(rangle)\n",
    "rangle_nose_brow = 0\n",
    "for i in range(len(rects)):\n",
    "    langle_nose_brow += langle[:,i].std()\n",
    "    rangle_nose_brow += rangle[:,i].std()\n",
    "#求几张脸该特征的均值\n",
    "langle_nose_brow = langle_nose_brow/len(rects)\n",
    "rangle_nose_brow = rangle_nose_brow/len(rects)\n",
    "print(langle_nose_brow,rangle_nose_brow)\n",
    "\n",
    "cap.release()\n"
   ]
  },
  {
   "cell_type": "code",
   "execution_count": 162,
   "metadata": {},
   "outputs": [
    {
     "name": "stdout",
     "output_type": "stream",
     "text": [
      "92\n"
     ]
    }
   ],
   "source": [
    "print(angle_new([652.0, 697.5, 652.5, 677.5],[710, 644, 670, 644]))"
   ]
  },
  {
   "cell_type": "markdown",
   "metadata": {},
   "source": [
    "特征六：眉毛粗细"
   ]
  },
  {
   "cell_type": "code",
   "execution_count": 145,
   "metadata": {},
   "outputs": [
    {
     "ename": "KeyboardInterrupt",
     "evalue": "",
     "output_type": "error",
     "traceback": [
      "\u001b[1;31m---------------------------------------------------------------------------\u001b[0m",
      "\u001b[1;31mKeyboardInterrupt\u001b[0m                         Traceback (most recent call last)",
      "\u001b[1;32m<ipython-input-145-6e6d2089fb6e>\u001b[0m in \u001b[0;36m<module>\u001b[1;34m\u001b[0m\n\u001b[0;32m      9\u001b[0m \u001b[1;33m\u001b[0m\u001b[0m\n\u001b[0;32m     10\u001b[0m     \u001b[1;31m# detect faces in the grayscale image\u001b[0m\u001b[1;33m\u001b[0m\u001b[1;33m\u001b[0m\u001b[1;33m\u001b[0m\u001b[0m\n\u001b[1;32m---> 11\u001b[1;33m     \u001b[0mrects\u001b[0m \u001b[1;33m=\u001b[0m \u001b[0mdetector\u001b[0m\u001b[1;33m(\u001b[0m\u001b[0mgray\u001b[0m\u001b[1;33m,\u001b[0m \u001b[1;36m0\u001b[0m\u001b[1;33m)\u001b[0m\u001b[1;33m\u001b[0m\u001b[1;33m\u001b[0m\u001b[0m\n\u001b[0m\u001b[0;32m     12\u001b[0m \u001b[1;33m\u001b[0m\u001b[0m\n\u001b[0;32m     13\u001b[0m \u001b[1;33m\u001b[0m\u001b[0m\n",
      "\u001b[1;31mKeyboardInterrupt\u001b[0m: "
     ]
    }
   ],
   "source": [
    "#假设一个视频中人数恒定且相应人脸可以对应上,最终返回特征为brow_thickness\n",
    "cap = cv2.VideoCapture('C:/Users/balabalr/Documents/acxwigylke.mp4')\n",
    "v_len = int(cap.get(cv2.CAP_PROP_FRAME_COUNT))\n",
    "\n",
    "each_brow_thickness = []\n",
    "for f in range(v_len):\n",
    "    _, image = cap.read()\n",
    "    gray = cv2.cvtColor(image, cv2.COLOR_BGR2GRAY)\n",
    "\n",
    "    # detect faces in the grayscale image\n",
    "    rects = detector(gray, 0)\n",
    "\n",
    "\n",
    "    # loop over the face detections\n",
    "    thickness = []\n",
    "    each_thickness=[]\n",
    "    r_brow_feature=[element for element in range(70,92)]\n",
    "    r_brow_feature.remove(77)\n",
    "    r_brow_feature.remove(88)\n",
    "    l_brow_feature=[element for element in range(92,114)]\n",
    "    l_brow_feature.remove(99)\n",
    "    l_brow_feature.remove(110)\n",
    "    for (i, rect) in enumerate(rects):\n",
    "        # determine the facial landmarks for the face region, then\n",
    "        # convert the facial landmark (x, y)-coordinates to a NumPy\n",
    "        # array\n",
    "        shape = predictor(gray, rect)\n",
    "        shape = face_utils.shape_to_np(shape)\n",
    "        for i in range(10):\n",
    "            each_thickness.append(np.linalg.norm(np.concatenate((shape[r_brow_feature[i]],shape[r_brow_feature[-i-1]])).mean(axis=0)))\n",
    "            each_thickness.append(np.linalg.norm(np.concatenate((shape[l_brow_feature[i]],shape[l_brow_feature[-i-1]])).mean(axis=0)))\n",
    "        thickness.append(np.mean(each_thickness))\n",
    "        \n",
    "    each_brow_thickness.append(thickness)\n",
    "#Dis为二维数组[帧数，脸数]\n",
    "each_brow_thickness = np.array(each_brow_thickness)\n",
    "brow_thickness = 0\n",
    "for i in range(len(rects)):\n",
    "    brow_thickness += each_brow_thickness[:,i].std()\n",
    "#求几张脸该特征的均值\n",
    "brow_thickness = brow_thickness/len(rects)\n",
    "print(brow_thickness)\n",
    "\n",
    "cap.release()"
   ]
  }
 ],
 "metadata": {
  "kernelspec": {
   "display_name": "Python 3",
   "language": "python",
   "name": "python3"
  },
  "language_info": {
   "codemirror_mode": {
    "name": "ipython",
    "version": 3
   },
   "file_extension": ".py",
   "mimetype": "text/x-python",
   "name": "python",
   "nbconvert_exporter": "python",
   "pygments_lexer": "ipython3",
   "version": "3.7.1"
  }
 },
 "nbformat": 4,
 "nbformat_minor": 2
}